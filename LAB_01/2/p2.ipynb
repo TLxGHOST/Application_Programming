{
 "cells": [
  {
   "cell_type": "code",
   "execution_count": null,
   "metadata": {},
   "outputs": [],
   "source": [
    "file=open(\"in.txt\",'r')\n",
    "content=file.read()\n",
    "file2=open(\"out.txt\",'r')\n",
    "content2=file2.read()\n",
    "\n",
    "content=content2+content\n",
    "\n",
    "file2.close()\n",
    "file2=open(\"out.txt\",'w')\n",
    "file2.write(content)\n",
    "\n",
    "\n",
    "file.close()\n",
    "file2.close()"
   ]
  }
 ],
 "metadata": {
  "kernelspec": {
   "display_name": "Python 3",
   "language": "python",
   "name": "python3"
  },
  "language_info": {
   "codemirror_mode": {
    "name": "ipython",
    "version": 3
   },
   "file_extension": ".py",
   "mimetype": "text/x-python",
   "name": "python",
   "nbconvert_exporter": "python",
   "pygments_lexer": "ipython3",
   "version": "3.11.9"
  }
 },
 "nbformat": 4,
 "nbformat_minor": 2
}
